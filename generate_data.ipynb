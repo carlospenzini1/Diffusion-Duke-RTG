{
 "cells": [
  {
   "cell_type": "code",
   "execution_count": null,
   "metadata": {},
   "outputs": [],
   "source": [
    "import os\n",
    "from absl import flags\n",
    "from ml_collections import config_flags\n",
    "import numpy as np\n",
    "import tqdm\n",
    "from data.synthetic import utils"
   ]
  },
  {
   "cell_type": "code",
   "execution_count": 2,
   "metadata": {},
   "outputs": [],
   "source": [
    "NUM_SAMPLES=10000000\n",
    "BATCH_SIZE=200\n",
    "DATA_NAME=\"checkerboard\" #OPTIONS: swissroll, circles, moons, 8gaussians, pinwheel, 2spirals, checkerboard, line, cos \n",
    "DATA_ROOT=f'data/synthetic/{DATA_NAME}'"
   ]
  },
  {
   "cell_type": "code",
   "execution_count": 3,
   "metadata": {},
   "outputs": [
    {
     "data": {
      "text/plain": [
       "['generate_data']"
      ]
     },
     "execution_count": 3,
     "metadata": {},
     "output_type": "execute_result"
    }
   ],
   "source": [
    "_CONFIG = config_flags.DEFINE_config_file('data_config', lock_config=False)\n",
    "flags.DEFINE_integer('num_samples', NUM_SAMPLES, 'num samples to be generated')\n",
    "flags.DEFINE_integer('batch_size', BATCH_SIZE, 'batch size for datagen')\n",
    "flags.DEFINE_string('data_root', DATA_ROOT, 'root folder of data')\n",
    "\n",
    "FLAGS = flags.FLAGS\n",
    "FLAGS(['generate_data','--data_config=data/synthetic/data_config.py'])"
   ]
  },
  {
   "cell_type": "code",
   "execution_count": 4,
   "metadata": {},
   "outputs": [
    {
     "name": "stdout",
     "output_type": "stream",
     "text": [
      "binmode: gray\n",
      "data_name: checkerboard\n",
      "discrete_dim: 32\n",
      "int_scale: -1.0\n",
      "plot_size: -1.0\n",
      "vocab_size: 2\n",
      "\n"
     ]
    }
   ],
   "source": [
    "if not os.path.exists(FLAGS.data_root):\n",
    "    os.makedirs(FLAGS.data_root)\n",
    "data_config = _CONFIG.value\n",
    "data_config.data_name=DATA_NAME\n",
    "print(data_config)"
   ]
  },
  {
   "cell_type": "code",
   "execution_count": 5,
   "metadata": {},
   "outputs": [
    {
     "name": "stdout",
     "output_type": "stream",
     "text": [
      "remapping binary repr with gray code\n",
      "f_scale, 4.999530215205527 int_scale, 5461.760975376213\n"
     ]
    }
   ],
   "source": [
    "db, bm, inv_bm = utils.setup_data(data_config)\n",
    "\n",
    "with open(os.path.join(FLAGS.data_root, 'config.yaml'), 'w') as f:\n",
    "    f.write(data_config.to_yaml())"
   ]
  },
  {
   "cell_type": "code",
   "execution_count": null,
   "metadata": {},
   "outputs": [
    {
     "name": "stderr",
     "output_type": "stream",
     "text": [
      "100%|██████████| 50000/50000 [02:25<00:00, 344.14it/s]\n"
     ]
    },
    {
     "name": "stdout",
     "output_type": "stream",
     "text": [
      "10000000 samples generated\n"
     ]
    }
   ],
   "source": [
    "data_list = []\n",
    "for _ in tqdm.tqdm(range(FLAGS.num_samples // FLAGS.batch_size)):\n",
    "    data = utils.float2bin(db.gen_batch(FLAGS.batch_size), bm,\n",
    "                           data_config.discrete_dim, data_config.int_scale)\n",
    "    data_list.append(data.astype(bool))\n",
    "data = np.concatenate(data_list, axis=0)\n",
    "print(data.shape[0], 'samples generated')\n",
    "save_path = os.path.join(FLAGS.data_root, 'data.npy')\n",
    "with open(save_path, 'wb') as f:\n",
    "    np.save(f, data)\n",
    "\n",
    "with open(os.path.join(FLAGS.data_root, 'samples.pdf'), 'wb') as f:\n",
    "    float_data = utils.bin2float(data[:1000].astype(np.int32), inv_bm,\n",
    "                                 data_config.discrete_dim,\n",
    "                                 data_config.int_scale)\n",
    "    utils.plot_samples(float_data, f, im_size=4.1, im_fmt='pdf')"
   ]
  }
 ],
 "metadata": {
  "kernelspec": {
   "display_name": "sedd",
   "language": "python",
   "name": "python3"
  },
  "language_info": {
   "codemirror_mode": {
    "name": "ipython",
    "version": 3
   },
   "file_extension": ".py",
   "mimetype": "text/x-python",
   "name": "python",
   "nbconvert_exporter": "python",
   "pygments_lexer": "ipython3",
   "version": "3.9.21"
  }
 },
 "nbformat": 4,
 "nbformat_minor": 2
}
